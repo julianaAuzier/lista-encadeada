{
 "cells": [
  {
   "cell_type": "markdown",
   "id": "025a36e6-ef89-47a3-ab4c-617e5581abb6",
   "metadata": {},
   "source": [
    "# Questão 2"
   ]
  },
  {
   "cell_type": "markdown",
   "id": "a3c5082c",
   "metadata": {},
   "source": [
    "## Intercalação de listas"
   ]
  },
  {
   "cell_type": "code",
   "execution_count": 1,
   "id": "c2cce265",
   "metadata": {},
   "outputs": [],
   "source": [
    "class NODO:\n",
    "    def __init__(self, elemento, proximo):\n",
    "        self.elemento = elemento\n",
    "        self.proximo = proximo\n",
    "\n",
    "class LISTA:\n",
    "    def __init__(self):\n",
    "        NODO.__init__(self, elemento = None, proximo = None)\n",
    "        self.inicio = None\n",
    "        self.tamanho = 0\n",
    "    \n",
    "    def __len__(self):\n",
    "        return self.tamanho\n",
    "\n",
    "    def MOSTRAR(self):\n",
    "        listaAux = []\n",
    "        add = None\n",
    "        aux = self.inicio\n",
    "        if(aux == None):\n",
    "            return False\n",
    "        else:\n",
    "            while (aux != None):\n",
    "                add = aux.elemento\n",
    "                listaAux.append(add)\n",
    "                aux = aux.proximo\n",
    "            return listaAux\n",
    "        \n",
    "    def INSERIR(self, valor, posicao):\n",
    "        posicao = posicao - 1\n",
    "        if ((posicao < 0) or (posicao > self.tamanho)):\n",
    "            print (\"Posição inválida!\")\n",
    "            return False\n",
    "        elif (posicao == 0):\n",
    "            self.inicio = NODO (valor, None)\n",
    "        else:\n",
    "            aux = self.inicio\n",
    "            for i in range (1, posicao):\n",
    "                aux = aux.proximo\n",
    "            aux.proximo = NODO (valor, aux.proximo)\n",
    "        self.tamanho = self.tamanho + 1\n",
    "        return True\n",
    "\n",
    "def Comparar(lista1, lista2):\n",
    "    tamanho1 = lista1.TAMANHO()\n",
    "    tamanho2 = lista2.TAMANHO()\n",
    "    if(tamanho1 != tamanho2):\n",
    "        print(\"As listas não são iguais.\")\n",
    "        return False\n",
    "    else:\n",
    "        aux1 = lista1.inicio\n",
    "        aux2 = lista2.inicio\n",
    "        contador = 0\n",
    "        for i in range(tamanho1):\n",
    "            if(aux1.elemento != aux2.elemento):\n",
    "                contador = contador + 1\n",
    "            aux1 = aux1.proximo\n",
    "            aux2 = aux2.proximo\n",
    "        if(contador > 0):\n",
    "            print(\"As listas não são iguais.\")\n",
    "            return False\n",
    "        else:\n",
    "            print(\"Listas iguais\")\n",
    "            return True\n",
    "\n",
    "def inverter(lista):\n",
    "    lista_invertida = LISTA()\n",
    "\n",
    "    for i in range(len(lista)-1,-1,-1):\n",
    "        if i>1:\n",
    "            lista_invertida.INSERIR(NODO(lista.MOSTRAR()[i].elemento,lista.MOSTRAR()[i-2].proximo), len(lista)-i)\n",
    "\n",
    "        elif i == 1:\n",
    "            lista_invertida.INSERIR(NODO(lista.MOSTRAR()[i].elemento,lista.MOSTRAR()[i-1]), len(lista)-i)\n",
    "\n",
    "        elif i == 0:\n",
    "            lista_invertida.INSERIR(NODO(lista.MOSTRAR()[i].elemento, None), len(lista))\n",
    "            \n",
    "    return lista_invertida\n",
    "    \n",
    "def exibir(lista):\n",
    "    for i in range(int(len(lista))):\n",
    "        if lista.MOSTRAR()[i].proximo is None:\n",
    "            print(lista.MOSTRAR()[i].elemento,' --> ',None)\n",
    "        elif lista.MOSTRAR()[i].proximo is not None:\n",
    "            print(lista.MOSTRAR()[i].elemento,' --> ',lista.MOSTRAR()[i].proximo.elemento)\n",
    "\n",
    "def intercala(lista1,lista2):\n",
    "    j=1\n",
    "    lista_merge = LISTA()\n",
    "    for i in range(len(lista1)):\n",
    "        lista_merge.INSERIR(NODO(lista1.MOSTRAR()[i].elemento,lista2.MOSTRAR()[i]),i+j)\n",
    "        lista_merge.INSERIR(NODO(lista2.MOSTRAR()[i].elemento,lista1.MOSTRAR()[i].proximo),i+j+1)\n",
    "        j+=1\n",
    "    return lista_merge"
   ]
  },
  {
   "cell_type": "code",
   "execution_count": 2,
   "id": "053f0be6",
   "metadata": {},
   "outputs": [
    {
     "data": {
      "text/plain": [
       "True"
      ]
     },
     "execution_count": 2,
     "metadata": {},
     "output_type": "execute_result"
    }
   ],
   "source": [
    "lista_1 = LISTA()\n",
    "lista_2 = LISTA()\n",
    "\n",
    "no_15 = NODO(5,None)\n",
    "no_14 = NODO(4,no_15)\n",
    "no_13 = NODO(3,no_14)\n",
    "no_12 = NODO(2,no_13)\n",
    "no_11 = NODO(1,no_12)\n",
    "\n",
    "no_25 = NODO(10,None)\n",
    "no_24 = NODO(9,no_25)\n",
    "no_23 = NODO(8,no_24)\n",
    "no_22 = NODO(7,no_23)\n",
    "no_21 = NODO(6,no_22)\n",
    "\n",
    "lista_1.INSERIR(no_11,1)\n",
    "lista_1.INSERIR(no_12,2)\n",
    "lista_1.INSERIR(no_13,3)\n",
    "lista_1.INSERIR(no_14,4)\n",
    "lista_1.INSERIR(no_15,5)\n",
    "\n",
    "lista_2.INSERIR(no_21,1)\n",
    "lista_2.INSERIR(no_22,2)\n",
    "lista_2.INSERIR(no_23,3)\n",
    "lista_2.INSERIR(no_24,4)\n",
    "lista_2.INSERIR(no_25,5)"
   ]
  },
  {
   "cell_type": "code",
   "execution_count": 3,
   "id": "3510bb35",
   "metadata": {},
   "outputs": [
    {
     "name": "stdout",
     "output_type": "stream",
     "text": [
      "1  -->  2\n",
      "2  -->  3\n",
      "3  -->  4\n",
      "4  -->  5\n",
      "5  -->  None\n"
     ]
    }
   ],
   "source": [
    "exibir(lista_1)"
   ]
  },
  {
   "cell_type": "code",
   "execution_count": 4,
   "id": "24b8a4a5",
   "metadata": {},
   "outputs": [
    {
     "name": "stdout",
     "output_type": "stream",
     "text": [
      "6  -->  7\n",
      "7  -->  8\n",
      "8  -->  9\n",
      "9  -->  10\n",
      "10  -->  None\n"
     ]
    }
   ],
   "source": [
    "exibir(lista_2)"
   ]
  },
  {
   "cell_type": "code",
   "execution_count": 5,
   "id": "254a7865",
   "metadata": {},
   "outputs": [],
   "source": [
    "lista_m = intercala(lista_1,lista_2)"
   ]
  },
  {
   "cell_type": "code",
   "execution_count": 6,
   "id": "cd1114a7",
   "metadata": {},
   "outputs": [
    {
     "name": "stdout",
     "output_type": "stream",
     "text": [
      "1  -->  6\n",
      "6  -->  2\n",
      "2  -->  7\n",
      "7  -->  3\n",
      "3  -->  8\n",
      "8  -->  4\n",
      "4  -->  9\n",
      "9  -->  5\n",
      "5  -->  10\n",
      "10  -->  None\n"
     ]
    }
   ],
   "source": [
    "exibir(lista_m)"
   ]
  },
  {
   "cell_type": "code",
   "execution_count": 7,
   "id": "1d3f08cc",
   "metadata": {},
   "outputs": [],
   "source": [
    "invertida = inverter(lista_m)"
   ]
  },
  {
   "cell_type": "code",
   "execution_count": 8,
   "id": "bee49d7c",
   "metadata": {},
   "outputs": [
    {
     "name": "stdout",
     "output_type": "stream",
     "text": [
      "10  -->  5\n",
      "5  -->  9\n",
      "9  -->  4\n",
      "4  -->  8\n",
      "8  -->  3\n",
      "3  -->  7\n",
      "7  -->  2\n",
      "2  -->  6\n",
      "6  -->  1\n",
      "1  -->  None\n"
     ]
    }
   ],
   "source": [
    "exibir(invertida)"
   ]
  }
 ],
 "metadata": {
  "kernelspec": {
   "display_name": "ambienteConda1",
   "language": "python",
   "name": "ambienteconda1"
  },
  "language_info": {
   "codemirror_mode": {
    "name": "ipython",
    "version": 3
   },
   "file_extension": ".py",
   "mimetype": "text/x-python",
   "name": "python",
   "nbconvert_exporter": "python",
   "pygments_lexer": "ipython3",
   "version": "3.9.12"
  }
 },
 "nbformat": 4,
 "nbformat_minor": 5
}
